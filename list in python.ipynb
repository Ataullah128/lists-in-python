{
 "cells": [
  {
   "cell_type": "markdown",
   "id": "bbdbc98d",
   "metadata": {},
   "source": [
    "# lists can hold similar data"
   ]
  },
  {
   "cell_type": "code",
   "execution_count": 7,
   "id": "50e0f610",
   "metadata": {},
   "outputs": [
    {
     "data": {
      "text/plain": [
       "[1, 2, 3, 3, 4, 5, 5, 6, 6, 6]"
      ]
     },
     "execution_count": 7,
     "metadata": {},
     "output_type": "execute_result"
    }
   ],
   "source": [
    "\n",
    "list1=[1,2,3,3,4,5,5,6,6,6,]\n",
    "list1"
   ]
  },
  {
   "cell_type": "markdown",
   "id": "f7e88c50",
   "metadata": {},
   "source": [
    "# lists can store data of differnt kinds"
   ]
  },
  {
   "cell_type": "code",
   "execution_count": 8,
   "id": "bc939082",
   "metadata": {},
   "outputs": [
    {
     "data": {
      "text/plain": [
       "[1, 'a', 5.6, 'all']"
      ]
     },
     "execution_count": 8,
     "metadata": {},
     "output_type": "execute_result"
    }
   ],
   "source": [
    "list2=[1,'a',5.6,\"all\"]\n",
    "list2"
   ]
  },
  {
   "cell_type": "markdown",
   "id": "7b93a9dc",
   "metadata": {},
   "source": [
    "# lists are mutable"
   ]
  },
  {
   "cell_type": "code",
   "execution_count": 19,
   "id": "54ba1b5c",
   "metadata": {},
   "outputs": [
    {
     "data": {
      "text/plain": [
       "[1, 'a', 5.6, 'all', 100, 100, 100]"
      ]
     },
     "execution_count": 19,
     "metadata": {},
     "output_type": "execute_result"
    }
   ],
   "source": [
    "#like we can change and add new values\n",
    "list2.append(100)\n",
    "#the append method add the values at the end of the list\n",
    "list2"
   ]
  },
  {
   "cell_type": "code",
   "execution_count": 22,
   "id": "f313586d",
   "metadata": {},
   "outputs": [
    {
     "data": {
      "text/plain": [
       "[1, 'a', 5.6, 'all', 100, 100, 100, 120, 130, 'hy', 120, 130, 'hy']"
      ]
     },
     "execution_count": 22,
     "metadata": {},
     "output_type": "execute_result"
    }
   ],
   "source": [
    "#more then 1 values can be added \n",
    "list2.extend([120,130,'hy'])\n",
    "\n",
    "#the extend method add more then 1 vlaues to the list\n",
    "list2"
   ]
  },
  {
   "cell_type": "markdown",
   "id": "17fe47d9",
   "metadata": {},
   "source": [
    "# append will always try to add 1 item and extend will add multiple items\n"
   ]
  },
  {
   "cell_type": "code",
   "execution_count": 24,
   "id": "1c52ec8a",
   "metadata": {},
   "outputs": [
    {
     "data": {
      "text/plain": [
       "[1, 2, 3, 3, 4, 5, 5, 6, 6, 6]"
      ]
     },
     "execution_count": 24,
     "metadata": {},
     "output_type": "execute_result"
    }
   ],
   "source": [
    "list1"
   ]
  },
  {
   "cell_type": "code",
   "execution_count": 32,
   "id": "a813f141",
   "metadata": {},
   "outputs": [],
   "source": [
    "list1.append([1,2,3])"
   ]
  },
  {
   "cell_type": "code",
   "execution_count": 44,
   "id": "01e7c13a",
   "metadata": {},
   "outputs": [
    {
     "data": {
      "text/plain": [
       "6"
      ]
     },
     "execution_count": 44,
     "metadata": {},
     "output_type": "execute_result"
    }
   ],
   "source": [
    "list1.pop()"
   ]
  },
  {
   "cell_type": "code",
   "execution_count": 46,
   "id": "db062995",
   "metadata": {},
   "outputs": [],
   "source": [
    "list1.append([1,2,3])"
   ]
  },
  {
   "cell_type": "code",
   "execution_count": 47,
   "id": "e67a4c29",
   "metadata": {},
   "outputs": [
    {
     "data": {
      "text/plain": [
       "[1, 2, 3, 3, 4, 5, 5, 6, 6, [1, 2, 3]]"
      ]
     },
     "execution_count": 47,
     "metadata": {},
     "output_type": "execute_result"
    }
   ],
   "source": [
    "list1"
   ]
  },
  {
   "cell_type": "code",
   "execution_count": 51,
   "id": "f57be822",
   "metadata": {},
   "outputs": [],
   "source": [
    "list1.extend(\"hellow\")"
   ]
  },
  {
   "cell_type": "code",
   "execution_count": 52,
   "id": "1dc9af93",
   "metadata": {},
   "outputs": [
    {
     "data": {
      "text/plain": [
       "[1, 2, 3, 3, 4, 5, 5, 6, 6, [1, 2, 3], 'h', 'e', 'l', 'l', 'o', 'w']"
      ]
     },
     "execution_count": 52,
     "metadata": {},
     "output_type": "execute_result"
    }
   ],
   "source": [
    "list1"
   ]
  },
  {
   "cell_type": "markdown",
   "id": "14f6d698",
   "metadata": {},
   "source": [
    "# adding an element on desired location"
   ]
  },
  {
   "cell_type": "code",
   "execution_count": 57,
   "id": "1b34cbdd",
   "metadata": {},
   "outputs": [],
   "source": [
    "#suppose im adding 100 between 5,5\n",
    "\n",
    "list1.insert(6,'100')\n",
    "\n",
    "#the insert function will help you add an element on your desired location\n"
   ]
  },
  {
   "cell_type": "code",
   "execution_count": 58,
   "id": "e61f9277",
   "metadata": {},
   "outputs": [
    {
     "data": {
      "text/plain": [
       "[1,\n",
       " 2,\n",
       " 3,\n",
       " 3,\n",
       " 4,\n",
       " 5,\n",
       " '100',\n",
       " '100',\n",
       " 5,\n",
       " 6,\n",
       " 6,\n",
       " [1, 2, 3],\n",
       " 'h',\n",
       " 'e',\n",
       " 'l',\n",
       " 'l',\n",
       " 'o',\n",
       " 'w']"
      ]
     },
     "execution_count": 58,
     "metadata": {},
     "output_type": "execute_result"
    }
   ],
   "source": [
    "list1"
   ]
  },
  {
   "cell_type": "markdown",
   "id": "255b25ab",
   "metadata": {},
   "source": [
    "# now lets delete some elements"
   ]
  },
  {
   "cell_type": "code",
   "execution_count": 59,
   "id": "807e43aa",
   "metadata": {},
   "outputs": [],
   "source": [
    "del list1[6]"
   ]
  },
  {
   "cell_type": "code",
   "execution_count": 60,
   "id": "b38910e1",
   "metadata": {},
   "outputs": [
    {
     "data": {
      "text/plain": [
       "[1, 2, 3, 3, 4, 5, '100', 5, 6, 6, [1, 2, 3], 'h', 'e', 'l', 'l', 'o', 'w']"
      ]
     },
     "execution_count": 60,
     "metadata": {},
     "output_type": "execute_result"
    }
   ],
   "source": [
    "list1"
   ]
  },
  {
   "cell_type": "code",
   "execution_count": 63,
   "id": "1ff9f7d5",
   "metadata": {},
   "outputs": [],
   "source": [
    "#lets delete the 'l'\n",
    "del list1[-2]"
   ]
  },
  {
   "cell_type": "code",
   "execution_count": 64,
   "id": "96a556bf",
   "metadata": {},
   "outputs": [
    {
     "data": {
      "text/plain": [
       "[1, 2, 3, 3, 4, 5, '100', 5, 6, 6, [1, 2, 3], 'h', 'e', 'l', 'o']"
      ]
     },
     "execution_count": 64,
     "metadata": {},
     "output_type": "execute_result"
    }
   ],
   "source": [
    "list1"
   ]
  },
  {
   "cell_type": "code",
   "execution_count": 65,
   "id": "a138a3bd",
   "metadata": {},
   "outputs": [],
   "source": [
    "#lets delete the 'helo'\n",
    "\n",
    "del list1[-4:]"
   ]
  },
  {
   "cell_type": "code",
   "execution_count": 66,
   "id": "a02c1763",
   "metadata": {},
   "outputs": [
    {
     "data": {
      "text/plain": [
       "[1, 2, 3, 3, 4, 5, '100', 5, 6, 6, [1, 2, 3]]"
      ]
     },
     "execution_count": 66,
     "metadata": {},
     "output_type": "execute_result"
    }
   ],
   "source": [
    "list1"
   ]
  },
  {
   "cell_type": "code",
   "execution_count": 67,
   "id": "51b015a7",
   "metadata": {},
   "outputs": [],
   "source": [
    "#deleting the values in the braket [1,2,3]\n",
    "del list1[-1]\n"
   ]
  },
  {
   "cell_type": "code",
   "execution_count": 68,
   "id": "6be97618",
   "metadata": {},
   "outputs": [
    {
     "data": {
      "text/plain": [
       "[1, 2, 3, 3, 4, 5, '100', 5, 6, 6]"
      ]
     },
     "execution_count": 68,
     "metadata": {},
     "output_type": "execute_result"
    }
   ],
   "source": [
    "list1"
   ]
  },
  {
   "cell_type": "markdown",
   "id": "255cf80a",
   "metadata": {},
   "source": [
    "# incase if we dont know the exact location of an element in the list we can delete it.\n"
   ]
  },
  {
   "cell_type": "code",
   "execution_count": 69,
   "id": "54bbfb01",
   "metadata": {},
   "outputs": [],
   "source": [
    "#lets delete the '100'\n",
    "list1.remove(\"100\")\n"
   ]
  },
  {
   "cell_type": "code",
   "execution_count": 70,
   "id": "6bda2203",
   "metadata": {},
   "outputs": [
    {
     "data": {
      "text/plain": [
       "[1, 2, 3, 3, 4, 5, 5, 6, 6]"
      ]
     },
     "execution_count": 70,
     "metadata": {},
     "output_type": "execute_result"
    }
   ],
   "source": [
    "list1"
   ]
  },
  {
   "cell_type": "code",
   "execution_count": 71,
   "id": "ae33176a",
   "metadata": {},
   "outputs": [
    {
     "data": {
      "text/plain": [
       "6"
      ]
     },
     "execution_count": 71,
     "metadata": {},
     "output_type": "execute_result"
    }
   ],
   "source": [
    "#pop will delete the last element in the list\n",
    "list1.pop()"
   ]
  },
  {
   "cell_type": "code",
   "execution_count": 73,
   "id": "5a1785bf",
   "metadata": {},
   "outputs": [],
   "source": [
    "#cleaar() will empty the list\n",
    "list1.clear()"
   ]
  },
  {
   "cell_type": "code",
   "execution_count": 74,
   "id": "50e76554",
   "metadata": {},
   "outputs": [
    {
     "data": {
      "text/plain": [
       "[]"
      ]
     },
     "execution_count": 74,
     "metadata": {},
     "output_type": "execute_result"
    }
   ],
   "source": [
    "list1"
   ]
  },
  {
   "cell_type": "markdown",
   "id": "6c886e31",
   "metadata": {},
   "source": [
    "# list operatiion"
   ]
  },
  {
   "cell_type": "code",
   "execution_count": 75,
   "id": "245e1bbd",
   "metadata": {},
   "outputs": [
    {
     "data": {
      "text/plain": [
       "[1, 3, 6, 2, 5, 7]"
      ]
     },
     "execution_count": 75,
     "metadata": {},
     "output_type": "execute_result"
    }
   ],
   "source": [
    "l1=[1,3,6]\n",
    "l2=[2,5,7]\n",
    "l1+l2\n",
    "\n",
    "#list can be     "
   ]
  },
  {
   "cell_type": "code",
   "execution_count": 76,
   "id": "122b02cc",
   "metadata": {},
   "outputs": [],
   "source": [
    "#list multilpiation"
   ]
  },
  {
   "cell_type": "code",
   "execution_count": 78,
   "id": "3e7eaeb4",
   "metadata": {},
   "outputs": [
    {
     "data": {
      "text/plain": [
       "[1, 3, 6, 1, 3, 6, 1, 3, 6]"
      ]
     },
     "execution_count": 78,
     "metadata": {},
     "output_type": "execute_result"
    }
   ],
   "source": [
    "l1*3\n",
    "\n",
    "#this multiplication means the number of list elemmnts ...like in our case the elemnts of l1 are written 3 times"
   ]
  },
  {
   "cell_type": "code",
   "execution_count": 81,
   "id": "7fc6720a",
   "metadata": {},
   "outputs": [
    {
     "name": "stdout",
     "output_type": "stream",
     "text": [
      "1\n",
      "2\n",
      "3\n",
      "4\n"
     ]
    }
   ],
   "source": [
    "#loops\n",
    "l4=[1,2,3,4]\n",
    "for i in l4:\n",
    "    print(i)"
   ]
  },
  {
   "cell_type": "code",
   "execution_count": 84,
   "id": "c43d3c84",
   "metadata": {},
   "outputs": [
    {
     "data": {
      "text/plain": [
       "True"
      ]
     },
     "execution_count": 84,
     "metadata": {},
     "output_type": "execute_result"
    }
   ],
   "source": [
    "#membership \n",
    "2 in l4"
   ]
  },
  {
   "cell_type": "code",
   "execution_count": 85,
   "id": "9f23f765",
   "metadata": {},
   "outputs": [
    {
     "data": {
      "text/plain": [
       "False"
      ]
     },
     "execution_count": 85,
     "metadata": {},
     "output_type": "execute_result"
    }
   ],
   "source": [
    "5 in l4"
   ]
  },
  {
   "cell_type": "code",
   "execution_count": 87,
   "id": "81bdb8d6",
   "metadata": {},
   "outputs": [
    {
     "data": {
      "text/plain": [
       "4"
      ]
     },
     "execution_count": 87,
     "metadata": {},
     "output_type": "execute_result"
    }
   ],
   "source": [
    "#functions\n",
    "#the len function will return the number of elemnts in the list\n",
    "len(l4)"
   ]
  },
  {
   "cell_type": "code",
   "execution_count": 88,
   "id": "9e488696",
   "metadata": {},
   "outputs": [
    {
     "data": {
      "text/plain": [
       "1"
      ]
     },
     "execution_count": 88,
     "metadata": {},
     "output_type": "execute_result"
    }
   ],
   "source": [
    "#min/max\n",
    "min(l4)"
   ]
  },
  {
   "cell_type": "code",
   "execution_count": 89,
   "id": "974b7220",
   "metadata": {},
   "outputs": [
    {
     "data": {
      "text/plain": [
       "4"
      ]
     },
     "execution_count": 89,
     "metadata": {},
     "output_type": "execute_result"
    }
   ],
   "source": [
    "max(l4)"
   ]
  },
  {
   "cell_type": "code",
   "execution_count": 94,
   "id": "6b8cb0b4",
   "metadata": {},
   "outputs": [],
   "source": [
    "l4.sort(reverse=True)"
   ]
  },
  {
   "cell_type": "code",
   "execution_count": 95,
   "id": "5cda197e",
   "metadata": {},
   "outputs": [
    {
     "data": {
      "text/plain": [
       "[4, 3, 2, 1]"
      ]
     },
     "execution_count": 95,
     "metadata": {},
     "output_type": "execute_result"
    }
   ],
   "source": [
    "l4\n"
   ]
  },
  {
   "cell_type": "markdown",
   "id": "f1e124f0",
   "metadata": {},
   "source": [
    "# capitalizing the first character of every words in a sentence."
   ]
  },
  {
   "cell_type": "code",
   "execution_count": 100,
   "id": "20df3f84",
   "metadata": {},
   "outputs": [
    {
     "name": "stdout",
     "output_type": "stream",
     "text": [
      "Hy\n",
      "How\n",
      "Are\n",
      "You?\n"
     ]
    }
   ],
   "source": [
    "greetings=\"hy how are you?\"\n",
    "greetings.split()\n",
    "for i in greetings.split():\n",
    "    print(i.capitalize())"
   ]
  },
  {
   "cell_type": "code",
   "execution_count": 105,
   "id": "61a2296a",
   "metadata": {},
   "outputs": [
    {
     "name": "stdout",
     "output_type": "stream",
     "text": [
      "This\n",
      "Is\n",
      "My\n",
      "Pen\n"
     ]
    }
   ],
   "source": [
    "l1=\"this is my pen\"\n",
    "l1.split()\n",
    "for i in l1.split():\n",
    "    print(i.capitalize())\n"
   ]
  },
  {
   "cell_type": "markdown",
   "id": "5c13f79c",
   "metadata": {},
   "source": [
    "# removing duplicate items from a list"
   ]
  },
  {
   "cell_type": "code",
   "execution_count": 4,
   "id": "88edf09d",
   "metadata": {},
   "outputs": [
    {
     "name": "stdout",
     "output_type": "stream",
     "text": [
      "[1, 2, 3, 4, 5, 6]\n"
     ]
    }
   ],
   "source": [
    "l1=[1,1,1,2,3,3,4,4,5,5,6,5,6,6,]\n",
    "l=[]\n",
    "for i in l1:\n",
    "    if i not in l:\n",
    "        l.append(i)\n",
    "print(l)"
   ]
  },
  {
   "cell_type": "code",
   "execution_count": 23,
   "id": "c5133ad4",
   "metadata": {},
   "outputs": [
    {
     "name": "stdout",
     "output_type": "stream",
     "text": [
      "['a', 'b', 'n', 'g', 'h', 'r']\n"
     ]
    }
   ],
   "source": [
    "l2=['a','b','n','n','g','h','h','r','r','b',]\n",
    "l3=[]\n",
    "for i in l2:\n",
    "    if i not in l3:\n",
    "        l3.append(i)\n",
    "print(l3)\n",
    "    "
   ]
  },
  {
   "cell_type": "code",
   "execution_count": null,
   "id": "c7db9462",
   "metadata": {},
   "outputs": [],
   "source": []
  }
 ],
 "metadata": {
  "kernelspec": {
   "display_name": "Python 3 (ipykernel)",
   "language": "python",
   "name": "python3"
  },
  "language_info": {
   "codemirror_mode": {
    "name": "ipython",
    "version": 3
   },
   "file_extension": ".py",
   "mimetype": "text/x-python",
   "name": "python",
   "nbconvert_exporter": "python",
   "pygments_lexer": "ipython3",
   "version": "3.9.13"
  }
 },
 "nbformat": 4,
 "nbformat_minor": 5
}
